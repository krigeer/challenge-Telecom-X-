{
  "cells": [
    {
      "cell_type": "markdown",
      "metadata": {
        "id": "4foVEKhrlqcH"
      },
      "source": [
        "#📌 Extracción"
      ]
    },
    {
      "cell_type": "code",
      "execution_count": 3,
      "metadata": {
        "id": "1--uPM88l7JH"
      },
      "outputs": [
        {
          "name": "stdout",
          "output_type": "stream",
          "text": [
            "   customerID Churn                                           customer  \\\n",
            "0  0002-ORFBO    No  {'gender': 'Female', 'SeniorCitizen': 0, 'Part...   \n",
            "1  0003-MKNFE    No  {'gender': 'Male', 'SeniorCitizen': 0, 'Partne...   \n",
            "2  0004-TLHLJ   Yes  {'gender': 'Male', 'SeniorCitizen': 0, 'Partne...   \n",
            "3  0011-IGKFF   Yes  {'gender': 'Male', 'SeniorCitizen': 1, 'Partne...   \n",
            "4  0013-EXCHZ   Yes  {'gender': 'Female', 'SeniorCitizen': 1, 'Part...   \n",
            "\n",
            "                                             phone  \\\n",
            "0   {'PhoneService': 'Yes', 'MultipleLines': 'No'}   \n",
            "1  {'PhoneService': 'Yes', 'MultipleLines': 'Yes'}   \n",
            "2   {'PhoneService': 'Yes', 'MultipleLines': 'No'}   \n",
            "3   {'PhoneService': 'Yes', 'MultipleLines': 'No'}   \n",
            "4   {'PhoneService': 'Yes', 'MultipleLines': 'No'}   \n",
            "\n",
            "                                            internet  \\\n",
            "0  {'InternetService': 'DSL', 'OnlineSecurity': '...   \n",
            "1  {'InternetService': 'DSL', 'OnlineSecurity': '...   \n",
            "2  {'InternetService': 'Fiber optic', 'OnlineSecu...   \n",
            "3  {'InternetService': 'Fiber optic', 'OnlineSecu...   \n",
            "4  {'InternetService': 'Fiber optic', 'OnlineSecu...   \n",
            "\n",
            "                                             account  \n",
            "0  {'Contract': 'One year', 'PaperlessBilling': '...  \n",
            "1  {'Contract': 'Month-to-month', 'PaperlessBilli...  \n",
            "2  {'Contract': 'Month-to-month', 'PaperlessBilli...  \n",
            "3  {'Contract': 'Month-to-month', 'PaperlessBilli...  \n",
            "4  {'Contract': 'Month-to-month', 'PaperlessBilli...  \n"
          ]
        }
      ],
      "source": [
        "import pandas as pd\n",
        "\n",
        "df = pd.read_json(\"datos.json\")\n",
        "\n",
        "\n",
        "print(df.head())"
      ]
    },
    {
      "cell_type": "markdown",
      "metadata": {
        "id": "1lSZP8zmmGZu"
      },
      "source": [
        "#🔧 Transformación"
      ]
    },
    {
      "cell_type": "code",
      "execution_count": 24,
      "metadata": {
        "id": "bsm-WTLjmHvt"
      },
      "outputs": [
        {
          "name": "stdout",
          "output_type": "stream",
          "text": [
            "customerID    0\n",
            "Churn         0\n",
            "customer      0\n",
            "phone         0\n",
            "internet      0\n",
            "account       0\n",
            "dtype: int64\n",
            "   id_cliente cancelación                                      datos_cliente  \\\n",
            "0  0002-ORFBO           0  {'gender': 'Female', 'SeniorCitizen': 0, 'Part...   \n",
            "1  0003-MKNFE           0  {'gender': 'Male', 'SeniorCitizen': 0, 'Partne...   \n",
            "2  0004-TLHLJ         Yes  {'gender': 'Male', 'SeniorCitizen': 0, 'Partne...   \n",
            "3  0011-IGKFF         Yes  {'gender': 'Male', 'SeniorCitizen': 1, 'Partne...   \n",
            "4  0013-EXCHZ         Yes  {'gender': 'Female', 'SeniorCitizen': 1, 'Part...   \n",
            "\n",
            "                                servicio_telefonía  \\\n",
            "0   {'PhoneService': 'yes', 'MultipleLines': 'no'}   \n",
            "1  {'PhoneService': 'yes', 'MultipleLines': 'yes'}   \n",
            "2   {'PhoneService': 'yes', 'MultipleLines': 'no'}   \n",
            "3   {'PhoneService': 'yes', 'MultipleLines': 'no'}   \n",
            "4   {'PhoneService': 'yes', 'MultipleLines': 'no'}   \n",
            "\n",
            "                                   servicio_internet  \\\n",
            "0  {'InternetService': 'dsl', 'OnlineSecurity': '...   \n",
            "1  {'InternetService': 'dsl', 'OnlineSecurity': '...   \n",
            "2  {'InternetService': 'fiber optic', 'OnlineSecu...   \n",
            "3  {'InternetService': 'fiber optic', 'OnlineSecu...   \n",
            "4  {'InternetService': 'fiber optic', 'OnlineSecu...   \n",
            "\n",
            "                                        datos_cuenta  \n",
            "0  {'Contract': 'one year', 'PaperlessBilling': '...  \n",
            "1  {'Contract': 'month-to-month', 'PaperlessBilli...  \n",
            "2  {'Contract': 'month-to-month', 'PaperlessBilli...  \n",
            "3  {'Contract': 'month-to-month', 'PaperlessBilli...  \n",
            "4  {'Contract': 'month-to-month', 'PaperlessBilli...  \n",
            "   id_cliente cancelación                                      datos_cliente  \\\n",
            "0  0002-ORFBO           0  {'gender': 'Female', 'SeniorCitizen': 0, 'Part...   \n",
            "1  0003-MKNFE           0  {'gender': 'Male', 'SeniorCitizen': 0, 'Partne...   \n",
            "2  0004-TLHLJ         Yes  {'gender': 'Male', 'SeniorCitizen': 0, 'Partne...   \n",
            "3  0011-IGKFF         Yes  {'gender': 'Male', 'SeniorCitizen': 1, 'Partne...   \n",
            "4  0013-EXCHZ         Yes  {'gender': 'Female', 'SeniorCitizen': 1, 'Part...   \n",
            "\n",
            "                                servicio_telefonía  \\\n",
            "0   {'PhoneService': 'yes', 'MultipleLines': 'no'}   \n",
            "1  {'PhoneService': 'yes', 'MultipleLines': 'yes'}   \n",
            "2   {'PhoneService': 'yes', 'MultipleLines': 'no'}   \n",
            "3   {'PhoneService': 'yes', 'MultipleLines': 'no'}   \n",
            "4   {'PhoneService': 'yes', 'MultipleLines': 'no'}   \n",
            "\n",
            "                                   servicio_internet  \\\n",
            "0  {'InternetService': 'dsl', 'OnlineSecurity': '...   \n",
            "1  {'InternetService': 'dsl', 'OnlineSecurity': '...   \n",
            "2  {'InternetService': 'fiber optic', 'OnlineSecu...   \n",
            "3  {'InternetService': 'fiber optic', 'OnlineSecu...   \n",
            "4  {'InternetService': 'fiber optic', 'OnlineSecu...   \n",
            "\n",
            "                                        datos_cuenta  \n",
            "0  {'Contract': 'one year', 'PaperlessBilling': '...  \n",
            "1  {'Contract': 'month-to-month', 'PaperlessBilli...  \n",
            "2  {'Contract': 'month-to-month', 'PaperlessBilli...  \n",
            "3  {'Contract': 'month-to-month', 'PaperlessBilli...  \n",
            "4  {'Contract': 'month-to-month', 'PaperlessBilli...  \n"
          ]
        }
      ],
      "source": [
        "import pandas as pd\n",
        "import matplotlib.pyplot as plt\n",
        "df = pd.read_json(\"datos.json\")\n",
        "\n",
        "\n",
        "print(df.isnull().sum())\n",
        "#binarios\n",
        "df[\"Churn\"] = df[\"Churn\"].replace({\"Sí\": 1, \"No\": 0})\n",
        "\n",
        "#nombres de columnas\n",
        "\n",
        "\n",
        "# Renombrar columnas para mayor claridad\n",
        "df.rename(columns={\n",
        "    \"customerID\": \"id_cliente\",\n",
        "    \"Churn\": \"cancelación\",\n",
        "    \"customer\": \"datos_cliente\",\n",
        "    \"phone\": \"servicio_telefonía\",\n",
        "    \"internet\": \"servicio_internet\",\n",
        "    \"account\": \"datos_cuenta\"\n",
        "}, inplace=True)\n",
        "\n",
        "# Normalizar texto en columnas categóricas\n",
        "for col in [\"servicio_internet\", \"servicio_telefonía\", \"datos_cuenta\"]:\n",
        "    df[col] = df[col].apply(lambda x: {k: v.strip().lower() if isinstance(v, str) else v for k, v in x.items()})\n",
        "\n",
        "\n",
        "# Verificar cambios\n",
        "print(df.head())\n",
        "\n",
        "#categorias\n",
        "\n",
        "df[\"servicio_internet\"] = df[\"servicio_internet\"].apply(lambda x: {k: v.strip().lower() for k, v in x.items()})\n",
        "df[\"servicio_telefonía\"] = df[\"servicio_telefonía\"].apply(lambda x: {k: v.strip().lower() for k, v in x.items()})\n",
        "# Convertir valores numéricos en la columna de cargos\n",
        "df[\"datos_cuenta\"] = df[\"datos_cuenta\"].apply(lambda x: {**x, \"Charges\": {**x[\"Charges\"], \"Total\": pd.to_numeric(x[\"Charges\"][\"Total\"], errors=\"coerce\")}})\n",
        "\n",
        "\n",
        "#cambios\n",
        "print(df.head())  # Ver los datos transformados\n",
        "\n",
        "\n",
        "\n",
        "\n"
      ]
    },
    {
      "cell_type": "markdown",
      "metadata": {
        "id": "6XnTC2NTmMRL"
      },
      "source": [
        "#📊 Carga y análisis"
      ]
    },
    {
      "cell_type": "code",
      "execution_count": null,
      "metadata": {
        "id": "1jgUnLqTmPdd"
      },
      "outputs": [
        {
          "ename": "KeyError",
          "evalue": "'Churn'",
          "output_type": "error",
          "traceback": [
            "\u001b[31m---------------------------------------------------------------------------\u001b[39m",
            "\u001b[31mKeyError\u001b[39m                                  Traceback (most recent call last)",
            "\u001b[36mFile \u001b[39m\u001b[32mc:\\Users\\Alexander\\AppData\\Local\\Programs\\Python\\Python312\\Lib\\site-packages\\pandas\\core\\indexes\\base.py:3805\u001b[39m, in \u001b[36mIndex.get_loc\u001b[39m\u001b[34m(self, key)\u001b[39m\n\u001b[32m   3804\u001b[39m \u001b[38;5;28;01mtry\u001b[39;00m:\n\u001b[32m-> \u001b[39m\u001b[32m3805\u001b[39m     \u001b[38;5;28;01mreturn\u001b[39;00m \u001b[38;5;28;43mself\u001b[39;49m\u001b[43m.\u001b[49m\u001b[43m_engine\u001b[49m\u001b[43m.\u001b[49m\u001b[43mget_loc\u001b[49m\u001b[43m(\u001b[49m\u001b[43mcasted_key\u001b[49m\u001b[43m)\u001b[49m\n\u001b[32m   3806\u001b[39m \u001b[38;5;28;01mexcept\u001b[39;00m \u001b[38;5;167;01mKeyError\u001b[39;00m \u001b[38;5;28;01mas\u001b[39;00m err:\n",
            "\u001b[36mFile \u001b[39m\u001b[32mindex.pyx:167\u001b[39m, in \u001b[36mpandas._libs.index.IndexEngine.get_loc\u001b[39m\u001b[34m()\u001b[39m\n",
            "\u001b[36mFile \u001b[39m\u001b[32mindex.pyx:196\u001b[39m, in \u001b[36mpandas._libs.index.IndexEngine.get_loc\u001b[39m\u001b[34m()\u001b[39m\n",
            "\u001b[36mFile \u001b[39m\u001b[32mpandas\\\\_libs\\\\hashtable_class_helper.pxi:7081\u001b[39m, in \u001b[36mpandas._libs.hashtable.PyObjectHashTable.get_item\u001b[39m\u001b[34m()\u001b[39m\n",
            "\u001b[36mFile \u001b[39m\u001b[32mpandas\\\\_libs\\\\hashtable_class_helper.pxi:7089\u001b[39m, in \u001b[36mpandas._libs.hashtable.PyObjectHashTable.get_item\u001b[39m\u001b[34m()\u001b[39m\n",
            "\u001b[31mKeyError\u001b[39m: 'Churn'",
            "\nThe above exception was the direct cause of the following exception:\n",
            "\u001b[31mKeyError\u001b[39m                                  Traceback (most recent call last)",
            "\u001b[36mCell\u001b[39m\u001b[36m \u001b[39m\u001b[32mIn[30]\u001b[39m\u001b[32m, line 2\u001b[39m\n\u001b[32m      1\u001b[39m \u001b[38;5;66;03m# Contar la cantidad de clientes que permanecieron y los que se dieron de baja\u001b[39;00m\n\u001b[32m----> \u001b[39m\u001b[32m2\u001b[39m churn_counts = \u001b[43mdf\u001b[49m\u001b[43m[\u001b[49m\u001b[33;43m\"\u001b[39;49m\u001b[33;43mChurn\u001b[39;49m\u001b[33;43m\"\u001b[39;49m\u001b[43m]\u001b[49m.value_counts()\n\u001b[32m      4\u001b[39m \u001b[38;5;66;03m# Crear gráfico de pastel\u001b[39;00m\n\u001b[32m      5\u001b[39m plt.figure(figsize=(\u001b[32m6\u001b[39m, \u001b[32m6\u001b[39m))\n",
            "\u001b[36mFile \u001b[39m\u001b[32mc:\\Users\\Alexander\\AppData\\Local\\Programs\\Python\\Python312\\Lib\\site-packages\\pandas\\core\\frame.py:4102\u001b[39m, in \u001b[36mDataFrame.__getitem__\u001b[39m\u001b[34m(self, key)\u001b[39m\n\u001b[32m   4100\u001b[39m \u001b[38;5;28;01mif\u001b[39;00m \u001b[38;5;28mself\u001b[39m.columns.nlevels > \u001b[32m1\u001b[39m:\n\u001b[32m   4101\u001b[39m     \u001b[38;5;28;01mreturn\u001b[39;00m \u001b[38;5;28mself\u001b[39m._getitem_multilevel(key)\n\u001b[32m-> \u001b[39m\u001b[32m4102\u001b[39m indexer = \u001b[38;5;28;43mself\u001b[39;49m\u001b[43m.\u001b[49m\u001b[43mcolumns\u001b[49m\u001b[43m.\u001b[49m\u001b[43mget_loc\u001b[49m\u001b[43m(\u001b[49m\u001b[43mkey\u001b[49m\u001b[43m)\u001b[49m\n\u001b[32m   4103\u001b[39m \u001b[38;5;28;01mif\u001b[39;00m is_integer(indexer):\n\u001b[32m   4104\u001b[39m     indexer = [indexer]\n",
            "\u001b[36mFile \u001b[39m\u001b[32mc:\\Users\\Alexander\\AppData\\Local\\Programs\\Python\\Python312\\Lib\\site-packages\\pandas\\core\\indexes\\base.py:3812\u001b[39m, in \u001b[36mIndex.get_loc\u001b[39m\u001b[34m(self, key)\u001b[39m\n\u001b[32m   3807\u001b[39m     \u001b[38;5;28;01mif\u001b[39;00m \u001b[38;5;28misinstance\u001b[39m(casted_key, \u001b[38;5;28mslice\u001b[39m) \u001b[38;5;129;01mor\u001b[39;00m (\n\u001b[32m   3808\u001b[39m         \u001b[38;5;28misinstance\u001b[39m(casted_key, abc.Iterable)\n\u001b[32m   3809\u001b[39m         \u001b[38;5;129;01mand\u001b[39;00m \u001b[38;5;28many\u001b[39m(\u001b[38;5;28misinstance\u001b[39m(x, \u001b[38;5;28mslice\u001b[39m) \u001b[38;5;28;01mfor\u001b[39;00m x \u001b[38;5;129;01min\u001b[39;00m casted_key)\n\u001b[32m   3810\u001b[39m     ):\n\u001b[32m   3811\u001b[39m         \u001b[38;5;28;01mraise\u001b[39;00m InvalidIndexError(key)\n\u001b[32m-> \u001b[39m\u001b[32m3812\u001b[39m     \u001b[38;5;28;01mraise\u001b[39;00m \u001b[38;5;167;01mKeyError\u001b[39;00m(key) \u001b[38;5;28;01mfrom\u001b[39;00m\u001b[38;5;250m \u001b[39m\u001b[34;01merr\u001b[39;00m\n\u001b[32m   3813\u001b[39m \u001b[38;5;28;01mexcept\u001b[39;00m \u001b[38;5;167;01mTypeError\u001b[39;00m:\n\u001b[32m   3814\u001b[39m     \u001b[38;5;66;03m# If we have a listlike key, _check_indexing_error will raise\u001b[39;00m\n\u001b[32m   3815\u001b[39m     \u001b[38;5;66;03m#  InvalidIndexError. Otherwise we fall through and re-raise\u001b[39;00m\n\u001b[32m   3816\u001b[39m     \u001b[38;5;66;03m#  the TypeError.\u001b[39;00m\n\u001b[32m   3817\u001b[39m     \u001b[38;5;28mself\u001b[39m._check_indexing_error(key)\n",
            "\u001b[31mKeyError\u001b[39m: 'Churn'"
          ]
        }
      ],
      "source": [
        "\n",
        "churn_counts = df[\"Churn\"].value_counts()\n",
        "\n",
        "# Crear gráfico de pastel\n",
        "plt.figure(figsize=(6, 6))\n",
        "plt.pie(churn_counts, labels=[\"Permanecen\", \"Evasión\"], autopct=\"%1.1f%%\", colors=[\"green\", \"red\"])\n",
        "plt.title(\"Distribución de la evasión de clientes\")\n",
        "plt.show()\n",
        "\n",
        "# Gráfico de barras\n",
        "plt.figure(figsize=(6, 4))\n",
        "churn_counts.plot(kind=\"bar\", color=[\"green\", \"red\"])\n",
        "plt.xticks(ticks=[0, 1], labels=[\"Permanecen\", \"Evasión\"], rotation=0)\n",
        "plt.ylabel(\"Cantidad de clientes\")\n",
        "plt.title(\"Recuento de clientes por estado de evasión\")\n",
        "plt.show()\n"
      ]
    },
    {
      "cell_type": "markdown",
      "metadata": {
        "id": "v-WzfSvTmaw9"
      },
      "source": [
        "#📄Informe final"
      ]
    },
    {
      "cell_type": "code",
      "execution_count": null,
      "metadata": {
        "id": "XMTac0YJmeK9"
      },
      "outputs": [],
      "source": []
    }
  ],
  "metadata": {
    "colab": {
      "provenance": []
    },
    "kernelspec": {
      "display_name": "Python 3",
      "name": "python3"
    },
    "language_info": {
      "codemirror_mode": {
        "name": "ipython",
        "version": 3
      },
      "file_extension": ".py",
      "mimetype": "text/x-python",
      "name": "python",
      "nbconvert_exporter": "python",
      "pygments_lexer": "ipython3",
      "version": "3.12.6"
    }
  },
  "nbformat": 4,
  "nbformat_minor": 0
}
